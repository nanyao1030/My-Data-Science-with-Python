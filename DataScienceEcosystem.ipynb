{
 "cells": [
  {
   "cell_type": "markdown",
   "id": "18930d76-5eff-43af-978e-b6a6da8a061a",
   "metadata": {},
   "source": [
    "# Data Science Tools and Ecosystem"
   ]
  },
  {
   "cell_type": "markdown",
   "id": "3ed136db-1799-495e-90d0-ddf39efc5884",
   "metadata": {},
   "source": [
    "In this notebook, Data Science Tools and Ecosystem are summarized."
   ]
  },
  {
   "cell_type": "markdown",
   "id": "8840f396-0935-42ed-8fca-6e0255f0cb25",
   "metadata": {},
   "source": [
    "Some of the popular languages that Data Scientists use are:\n",
    "    1. Python\n",
    "    2. R\n",
    "    3. JAVA\n",
    "    "
   ]
  },
  {
   "cell_type": "markdown",
   "id": "7dc1cfe7-d044-41ef-8e22-a40b4e77a949",
   "metadata": {},
   "source": [
    "Some of the commonly used libraries used by Data Scientists include:\n",
    "    1. Pandas\n",
    "    2. NumPy\n",
    "    3. Matplotlib\n",
    "\n",
    "    "
   ]
  },
  {
   "cell_type": "markdown",
   "id": "864c0bab-3dc8-44fb-8927-07004ce3fce7",
   "metadata": {
    "tags": []
   },
   "source": [
    "# Data Science Tools"
   ]
  },
  {
   "cell_type": "markdown",
   "id": "a9a5c3ef-8e9b-44a7-bb8e-5f45d3527ceb",
   "metadata": {
    "tags": []
   },
   "source": [
    "| Data Science Tools |\n",
    "| -------------| \n",
    "| Python Jupitor Notebook |\n",
    "| RStudio | \n",
    "| JavaML | "
   ]
  },
  {
   "cell_type": "markdown",
   "id": "fafc2b74-315b-446e-ad72-2ab9522b9da1",
   "metadata": {
    "tags": []
   },
   "source": [
    "### Below are a few examples of evaluating arithmetic expressions in Python"
   ]
  },
  {
   "cell_type": "markdown",
   "id": "aacc7206-c301-409d-bce8-691a4ca41288",
   "metadata": {},
   "source": [
    "### Below are a few examples of evaluating arithmetic expressions in Python"
   ]
  },
  {
   "cell_type": "code",
   "execution_count": 7,
   "id": "7f160085-b5c2-49e1-bca6-543074beba6d",
   "metadata": {
    "tags": []
   },
   "outputs": [
    {
     "data": {
      "text/plain": [
       "17"
      ]
     },
     "execution_count": 7,
     "metadata": {},
     "output_type": "execute_result"
    }
   ],
   "source": [
    "# This a simple arithmetic expression to mutiply then add integers\n",
    "(3*4)+5"
   ]
  },
  {
   "cell_type": "code",
   "execution_count": 8,
   "id": "58ba0696-fd71-45bd-96a3-eec4a976c9f3",
   "metadata": {
    "tags": []
   },
   "outputs": [
    {
     "data": {
      "text/plain": [
       "3.3333333333333335"
      ]
     },
     "execution_count": 8,
     "metadata": {},
     "output_type": "execute_result"
    }
   ],
   "source": [
    "# This will convert 200 minutes to hours by diving by 60\n",
    "200/60"
   ]
  },
  {
   "cell_type": "markdown",
   "id": "b9fd11b3-1df0-416a-8a89-e97730e63260",
   "metadata": {},
   "source": [
    "**Objectives:**\n",
    "- Python\n",
    "- R\n",
    "- JAVA\n",
    "- C++"
   ]
  },
  {
   "cell_type": "markdown",
   "id": "76357c73-2de9-4ebc-8c46-c960f12637dc",
   "metadata": {},
   "source": [
    "**Objectives:**\n",
    "- Python\n",
    "- R\n",
    "- JAVA\n",
    "- C++"
   ]
  },
  {
   "cell_type": "markdown",
   "id": "102ffd51-96bd-4b03-9aff-fe028b0ea2dd",
   "metadata": {},
   "source": [
    "## Lakshmi Holla\n",
    "Nan Yao"
   ]
  },
  {
   "cell_type": "markdown",
   "id": "6256e7d4-6e69-4a46-94ab-e40207cc79b8",
   "metadata": {},
   "source": [
    "## Lakshmi Holla\n",
    "Nan Yao"
   ]
  },
  {
   "cell_type": "code",
   "execution_count": null,
   "id": "12cde51f-a88c-4e61-979e-6d71b1783781",
   "metadata": {},
   "outputs": [],
   "source": [
    "[] (https://github.com/nanyao1030/My-Data-Science-with-Python)"
   ]
  }
 ],
 "metadata": {
  "kernelspec": {
   "display_name": "Python",
   "language": "python",
   "name": "conda-env-python-py"
  },
  "language_info": {
   "codemirror_mode": {
    "name": "ipython",
    "version": 3
   },
   "file_extension": ".py",
   "mimetype": "text/x-python",
   "name": "python",
   "nbconvert_exporter": "python",
   "pygments_lexer": "ipython3",
   "version": "3.7.12"
  }
 },
 "nbformat": 4,
 "nbformat_minor": 5
}
